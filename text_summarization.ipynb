{
  "nbformat": 4,
  "nbformat_minor": 0,
  "metadata": {
    "colab": {
      "provenance": [],
      "collapsed_sections": []
    },
    "kernelspec": {
      "name": "python3",
      "display_name": "Python 3"
    },
    "language_info": {
      "name": "python"
    },
    "gpuClass": "standard",
    "accelerator": "GPU"
  },
  "cells": [
    {
      "cell_type": "code",
      "source": [
        "from google.colab import drive\n",
        "drive.mount('/content/drive')"
      ],
      "metadata": {
        "colab": {
          "base_uri": "https://localhost:8080/"
        },
        "id": "NH7frSu7w_Sn",
        "outputId": "4f66ddf2-1378-4667-beeb-8abac24cb132"
      },
      "execution_count": null,
      "outputs": [
        {
          "output_type": "stream",
          "name": "stdout",
          "text": [
            "Mounted at /content/drive\n"
          ]
        }
      ]
    },
    {
      "cell_type": "code",
      "execution_count": null,
      "metadata": {
        "id": "YaPnWez0u7QR"
      },
      "outputs": [],
      "source": [
        "# Import dependencies\n",
        "import pandas as pd\n",
        "from string import punctuation\n",
        "import tensorflow as tf\n",
        "import re\n",
        "import matplotlib.pyplot as plt\n",
        "import time\n",
        "import os\n",
        "import random\n",
        "\n",
        "from tensorflow.keras.preprocessing.text import Tokenizer\n",
        "from tensorflow.keras.preprocessing.sequence import pad_sequences\n",
        "\n",
        "from sklearn.model_selection import train_test_split"
      ]
    },
    {
      "cell_type": "code",
      "source": [
        "# Set up paths\n",
        "DATA_FILEPATH = \"/content/drive/MyDrive/Text Summarization/Data/Inshorts Cleaned Data.xlsx\""
      ],
      "metadata": {
        "id": "cvd8UemdvM8O"
      },
      "execution_count": null,
      "outputs": []
    },
    {
      "cell_type": "code",
      "source": [
        "# Download the Transformer-Network achitecture file and run it\n",
        "!wget https://raw.githubusercontent.com/GargPriyanshu1112/Text-Summarization/main/transformer_architecture.ipynb\n",
        "\n",
        "%run transformer_architecture.ipynb"
      ],
      "metadata": {
        "id": "sOP3SLiIDzkO",
        "colab": {
          "base_uri": "https://localhost:8080/"
        },
        "outputId": "3633fc40-b945-483a-b0c4-2e220aacbd58"
      },
      "execution_count": null,
      "outputs": [
        {
          "output_type": "stream",
          "name": "stdout",
          "text": [
            "--2022-09-04 10:05:01--  https://raw.githubusercontent.com/GargPriyanshu1112/Text-Summarization/main/transformer_architecture.ipynb\n",
            "Resolving raw.githubusercontent.com (raw.githubusercontent.com)... 185.199.110.133, 185.199.109.133, 185.199.108.133, ...\n",
            "Connecting to raw.githubusercontent.com (raw.githubusercontent.com)|185.199.110.133|:443... connected.\n",
            "HTTP request sent, awaiting response... 200 OK\n",
            "Length: 20602 (20K) [text/plain]\n",
            "Saving to: ‘transformer_architecture.ipynb’\n",
            "\n",
            "\r          transform   0%[                    ]       0  --.-KB/s               \rtransformer_archite 100%[===================>]  20.12K  --.-KB/s    in 0s      \n",
            "\n",
            "2022-09-04 10:05:01 (139 MB/s) - ‘transformer_architecture.ipynb’ saved [20602/20602]\n",
            "\n"
          ]
        }
      ]
    },
    {
      "cell_type": "code",
      "source": [
        "# Load in the Data\n",
        "data = pd.read_excel(DATA_FILEPATH)\n",
        "data.head()"
      ],
      "metadata": {
        "colab": {
          "base_uri": "https://localhost:8080/",
          "height": 206
        },
        "id": "MFjdmflOvM5i",
        "outputId": "1d4cc441-8923-4694-953e-0563e62be501"
      },
      "execution_count": null,
      "outputs": [
        {
          "output_type": "execute_result",
          "data": {
            "text/plain": [
              "                                            Headline  \\\n",
              "0  4 ex-bank officials booked for cheating bank o...   \n",
              "1     Supreme Court to go paperless in 6 months: CJI   \n",
              "2  At least 3 killed, 30 injured in blast in Sylh...   \n",
              "3  Why has Reliance been barred from trading in f...   \n",
              "4  Was stopped from entering my own studio at Tim...   \n",
              "\n",
              "                                               Short                 Source   \\\n",
              "0  The CBI on Saturday booked four former officia...  The New Indian Express   \n",
              "1  Chief Justice JS Khehar has said the Supreme C...                 Outlook   \n",
              "2  At least three people were killed, including a...         Hindustan Times   \n",
              "3  Mukesh Ambani-led Reliance Industries (RIL) wa...                Livemint   \n",
              "4  TV news anchor Arnab Goswami has said he was t...                 YouTube   \n",
              "\n",
              "      Time  Publish Date  \n",
              "0  09:25:00   2017-03-26  \n",
              "1  22:18:00   2017-03-25  \n",
              "2  23:39:00   2017-03-25  \n",
              "3  23:08:00   2017-03-25  \n",
              "4  23:24:00   2017-03-25  "
            ],
            "text/html": [
              "\n",
              "  <div id=\"df-373d1b95-4c1c-40a5-bb3f-a7c751fe3ffc\">\n",
              "    <div class=\"colab-df-container\">\n",
              "      <div>\n",
              "<style scoped>\n",
              "    .dataframe tbody tr th:only-of-type {\n",
              "        vertical-align: middle;\n",
              "    }\n",
              "\n",
              "    .dataframe tbody tr th {\n",
              "        vertical-align: top;\n",
              "    }\n",
              "\n",
              "    .dataframe thead th {\n",
              "        text-align: right;\n",
              "    }\n",
              "</style>\n",
              "<table border=\"1\" class=\"dataframe\">\n",
              "  <thead>\n",
              "    <tr style=\"text-align: right;\">\n",
              "      <th></th>\n",
              "      <th>Headline</th>\n",
              "      <th>Short</th>\n",
              "      <th>Source</th>\n",
              "      <th>Time</th>\n",
              "      <th>Publish Date</th>\n",
              "    </tr>\n",
              "  </thead>\n",
              "  <tbody>\n",
              "    <tr>\n",
              "      <th>0</th>\n",
              "      <td>4 ex-bank officials booked for cheating bank o...</td>\n",
              "      <td>The CBI on Saturday booked four former officia...</td>\n",
              "      <td>The New Indian Express</td>\n",
              "      <td>09:25:00</td>\n",
              "      <td>2017-03-26</td>\n",
              "    </tr>\n",
              "    <tr>\n",
              "      <th>1</th>\n",
              "      <td>Supreme Court to go paperless in 6 months: CJI</td>\n",
              "      <td>Chief Justice JS Khehar has said the Supreme C...</td>\n",
              "      <td>Outlook</td>\n",
              "      <td>22:18:00</td>\n",
              "      <td>2017-03-25</td>\n",
              "    </tr>\n",
              "    <tr>\n",
              "      <th>2</th>\n",
              "      <td>At least 3 killed, 30 injured in blast in Sylh...</td>\n",
              "      <td>At least three people were killed, including a...</td>\n",
              "      <td>Hindustan Times</td>\n",
              "      <td>23:39:00</td>\n",
              "      <td>2017-03-25</td>\n",
              "    </tr>\n",
              "    <tr>\n",
              "      <th>3</th>\n",
              "      <td>Why has Reliance been barred from trading in f...</td>\n",
              "      <td>Mukesh Ambani-led Reliance Industries (RIL) wa...</td>\n",
              "      <td>Livemint</td>\n",
              "      <td>23:08:00</td>\n",
              "      <td>2017-03-25</td>\n",
              "    </tr>\n",
              "    <tr>\n",
              "      <th>4</th>\n",
              "      <td>Was stopped from entering my own studio at Tim...</td>\n",
              "      <td>TV news anchor Arnab Goswami has said he was t...</td>\n",
              "      <td>YouTube</td>\n",
              "      <td>23:24:00</td>\n",
              "      <td>2017-03-25</td>\n",
              "    </tr>\n",
              "  </tbody>\n",
              "</table>\n",
              "</div>\n",
              "      <button class=\"colab-df-convert\" onclick=\"convertToInteractive('df-373d1b95-4c1c-40a5-bb3f-a7c751fe3ffc')\"\n",
              "              title=\"Convert this dataframe to an interactive table.\"\n",
              "              style=\"display:none;\">\n",
              "        \n",
              "  <svg xmlns=\"http://www.w3.org/2000/svg\" height=\"24px\"viewBox=\"0 0 24 24\"\n",
              "       width=\"24px\">\n",
              "    <path d=\"M0 0h24v24H0V0z\" fill=\"none\"/>\n",
              "    <path d=\"M18.56 5.44l.94 2.06.94-2.06 2.06-.94-2.06-.94-.94-2.06-.94 2.06-2.06.94zm-11 1L8.5 8.5l.94-2.06 2.06-.94-2.06-.94L8.5 2.5l-.94 2.06-2.06.94zm10 10l.94 2.06.94-2.06 2.06-.94-2.06-.94-.94-2.06-.94 2.06-2.06.94z\"/><path d=\"M17.41 7.96l-1.37-1.37c-.4-.4-.92-.59-1.43-.59-.52 0-1.04.2-1.43.59L10.3 9.45l-7.72 7.72c-.78.78-.78 2.05 0 2.83L4 21.41c.39.39.9.59 1.41.59.51 0 1.02-.2 1.41-.59l7.78-7.78 2.81-2.81c.8-.78.8-2.07 0-2.86zM5.41 20L4 18.59l7.72-7.72 1.47 1.35L5.41 20z\"/>\n",
              "  </svg>\n",
              "      </button>\n",
              "      \n",
              "  <style>\n",
              "    .colab-df-container {\n",
              "      display:flex;\n",
              "      flex-wrap:wrap;\n",
              "      gap: 12px;\n",
              "    }\n",
              "\n",
              "    .colab-df-convert {\n",
              "      background-color: #E8F0FE;\n",
              "      border: none;\n",
              "      border-radius: 50%;\n",
              "      cursor: pointer;\n",
              "      display: none;\n",
              "      fill: #1967D2;\n",
              "      height: 32px;\n",
              "      padding: 0 0 0 0;\n",
              "      width: 32px;\n",
              "    }\n",
              "\n",
              "    .colab-df-convert:hover {\n",
              "      background-color: #E2EBFA;\n",
              "      box-shadow: 0px 1px 2px rgba(60, 64, 67, 0.3), 0px 1px 3px 1px rgba(60, 64, 67, 0.15);\n",
              "      fill: #174EA6;\n",
              "    }\n",
              "\n",
              "    [theme=dark] .colab-df-convert {\n",
              "      background-color: #3B4455;\n",
              "      fill: #D2E3FC;\n",
              "    }\n",
              "\n",
              "    [theme=dark] .colab-df-convert:hover {\n",
              "      background-color: #434B5C;\n",
              "      box-shadow: 0px 1px 3px 1px rgba(0, 0, 0, 0.15);\n",
              "      filter: drop-shadow(0px 1px 2px rgba(0, 0, 0, 0.3));\n",
              "      fill: #FFFFFF;\n",
              "    }\n",
              "  </style>\n",
              "\n",
              "      <script>\n",
              "        const buttonEl =\n",
              "          document.querySelector('#df-373d1b95-4c1c-40a5-bb3f-a7c751fe3ffc button.colab-df-convert');\n",
              "        buttonEl.style.display =\n",
              "          google.colab.kernel.accessAllowed ? 'block' : 'none';\n",
              "\n",
              "        async function convertToInteractive(key) {\n",
              "          const element = document.querySelector('#df-373d1b95-4c1c-40a5-bb3f-a7c751fe3ffc');\n",
              "          const dataTable =\n",
              "            await google.colab.kernel.invokeFunction('convertToInteractive',\n",
              "                                                     [key], {});\n",
              "          if (!dataTable) return;\n",
              "\n",
              "          const docLinkHtml = 'Like what you see? Visit the ' +\n",
              "            '<a target=\"_blank\" href=https://colab.research.google.com/notebooks/data_table.ipynb>data table notebook</a>'\n",
              "            + ' to learn more about interactive tables.';\n",
              "          element.innerHTML = '';\n",
              "          dataTable['output_type'] = 'display_data';\n",
              "          await google.colab.output.renderOutput(dataTable, element);\n",
              "          const docLink = document.createElement('div');\n",
              "          docLink.innerHTML = docLinkHtml;\n",
              "          element.appendChild(docLink);\n",
              "        }\n",
              "      </script>\n",
              "    </div>\n",
              "  </div>\n",
              "  "
            ]
          },
          "metadata": {},
          "execution_count": 5
        }
      ]
    },
    {
      "cell_type": "code",
      "source": [
        "data.info()"
      ],
      "metadata": {
        "id": "k8OnZb4gvM26",
        "colab": {
          "base_uri": "https://localhost:8080/"
        },
        "outputId": "2a473770-fa14-40bc-a950-900b9a14ddc1"
      },
      "execution_count": null,
      "outputs": [
        {
          "output_type": "stream",
          "name": "stdout",
          "text": [
            "<class 'pandas.core.frame.DataFrame'>\n",
            "RangeIndex: 55104 entries, 0 to 55103\n",
            "Data columns (total 5 columns):\n",
            " #   Column        Non-Null Count  Dtype         \n",
            "---  ------        --------------  -----         \n",
            " 0   Headline      55104 non-null  object        \n",
            " 1   Short         55104 non-null  object        \n",
            " 2   Source        55104 non-null  object        \n",
            " 3   Time          55104 non-null  object        \n",
            " 4   Publish Date  55104 non-null  datetime64[ns]\n",
            "dtypes: datetime64[ns](1), object(4)\n",
            "memory usage: 2.1+ MB\n"
          ]
        }
      ]
    },
    {
      "cell_type": "code",
      "source": [
        "data.columns"
      ],
      "metadata": {
        "id": "VfxGHElZvM0h",
        "colab": {
          "base_uri": "https://localhost:8080/"
        },
        "outputId": "c419bebd-8ff3-4e96-f01f-c48a6063eec7"
      },
      "execution_count": null,
      "outputs": [
        {
          "output_type": "execute_result",
          "data": {
            "text/plain": [
              "Index(['Headline', 'Short', 'Source ', 'Time ', 'Publish Date'], dtype='object')"
            ]
          },
          "metadata": {},
          "execution_count": 7
        }
      ]
    },
    {
      "cell_type": "code",
      "source": [
        "# Remove 'Source', 'Time', 'Publish Date' columns\n",
        "data.drop(['Source ', 'Time ', 'Publish Date'], axis=1, inplace=True)\n",
        "\n",
        "# Set the dtype of the columns to 'str'\n",
        "data = data.astype('str')\n",
        "\n",
        "# Rename columns\n",
        "data.rename(columns={'Headline': 'Summary', 'Short':'Description'}, inplace=True)\n",
        "data.head()"
      ],
      "metadata": {
        "id": "BYoqpbdvvMyF",
        "colab": {
          "base_uri": "https://localhost:8080/",
          "height": 206
        },
        "outputId": "0b970b45-01b9-41b5-89c6-b155b5ecb8c5"
      },
      "execution_count": null,
      "outputs": [
        {
          "output_type": "execute_result",
          "data": {
            "text/plain": [
              "                                             Summary  \\\n",
              "0  4 ex-bank officials booked for cheating bank o...   \n",
              "1     Supreme Court to go paperless in 6 months: CJI   \n",
              "2  At least 3 killed, 30 injured in blast in Sylh...   \n",
              "3  Why has Reliance been barred from trading in f...   \n",
              "4  Was stopped from entering my own studio at Tim...   \n",
              "\n",
              "                                         Description  \n",
              "0  The CBI on Saturday booked four former officia...  \n",
              "1  Chief Justice JS Khehar has said the Supreme C...  \n",
              "2  At least three people were killed, including a...  \n",
              "3  Mukesh Ambani-led Reliance Industries (RIL) wa...  \n",
              "4  TV news anchor Arnab Goswami has said he was t...  "
            ],
            "text/html": [
              "\n",
              "  <div id=\"df-1fc87689-b132-4e3e-bf73-2b2e86e5c378\">\n",
              "    <div class=\"colab-df-container\">\n",
              "      <div>\n",
              "<style scoped>\n",
              "    .dataframe tbody tr th:only-of-type {\n",
              "        vertical-align: middle;\n",
              "    }\n",
              "\n",
              "    .dataframe tbody tr th {\n",
              "        vertical-align: top;\n",
              "    }\n",
              "\n",
              "    .dataframe thead th {\n",
              "        text-align: right;\n",
              "    }\n",
              "</style>\n",
              "<table border=\"1\" class=\"dataframe\">\n",
              "  <thead>\n",
              "    <tr style=\"text-align: right;\">\n",
              "      <th></th>\n",
              "      <th>Summary</th>\n",
              "      <th>Description</th>\n",
              "    </tr>\n",
              "  </thead>\n",
              "  <tbody>\n",
              "    <tr>\n",
              "      <th>0</th>\n",
              "      <td>4 ex-bank officials booked for cheating bank o...</td>\n",
              "      <td>The CBI on Saturday booked four former officia...</td>\n",
              "    </tr>\n",
              "    <tr>\n",
              "      <th>1</th>\n",
              "      <td>Supreme Court to go paperless in 6 months: CJI</td>\n",
              "      <td>Chief Justice JS Khehar has said the Supreme C...</td>\n",
              "    </tr>\n",
              "    <tr>\n",
              "      <th>2</th>\n",
              "      <td>At least 3 killed, 30 injured in blast in Sylh...</td>\n",
              "      <td>At least three people were killed, including a...</td>\n",
              "    </tr>\n",
              "    <tr>\n",
              "      <th>3</th>\n",
              "      <td>Why has Reliance been barred from trading in f...</td>\n",
              "      <td>Mukesh Ambani-led Reliance Industries (RIL) wa...</td>\n",
              "    </tr>\n",
              "    <tr>\n",
              "      <th>4</th>\n",
              "      <td>Was stopped from entering my own studio at Tim...</td>\n",
              "      <td>TV news anchor Arnab Goswami has said he was t...</td>\n",
              "    </tr>\n",
              "  </tbody>\n",
              "</table>\n",
              "</div>\n",
              "      <button class=\"colab-df-convert\" onclick=\"convertToInteractive('df-1fc87689-b132-4e3e-bf73-2b2e86e5c378')\"\n",
              "              title=\"Convert this dataframe to an interactive table.\"\n",
              "              style=\"display:none;\">\n",
              "        \n",
              "  <svg xmlns=\"http://www.w3.org/2000/svg\" height=\"24px\"viewBox=\"0 0 24 24\"\n",
              "       width=\"24px\">\n",
              "    <path d=\"M0 0h24v24H0V0z\" fill=\"none\"/>\n",
              "    <path d=\"M18.56 5.44l.94 2.06.94-2.06 2.06-.94-2.06-.94-.94-2.06-.94 2.06-2.06.94zm-11 1L8.5 8.5l.94-2.06 2.06-.94-2.06-.94L8.5 2.5l-.94 2.06-2.06.94zm10 10l.94 2.06.94-2.06 2.06-.94-2.06-.94-.94-2.06-.94 2.06-2.06.94z\"/><path d=\"M17.41 7.96l-1.37-1.37c-.4-.4-.92-.59-1.43-.59-.52 0-1.04.2-1.43.59L10.3 9.45l-7.72 7.72c-.78.78-.78 2.05 0 2.83L4 21.41c.39.39.9.59 1.41.59.51 0 1.02-.2 1.41-.59l7.78-7.78 2.81-2.81c.8-.78.8-2.07 0-2.86zM5.41 20L4 18.59l7.72-7.72 1.47 1.35L5.41 20z\"/>\n",
              "  </svg>\n",
              "      </button>\n",
              "      \n",
              "  <style>\n",
              "    .colab-df-container {\n",
              "      display:flex;\n",
              "      flex-wrap:wrap;\n",
              "      gap: 12px;\n",
              "    }\n",
              "\n",
              "    .colab-df-convert {\n",
              "      background-color: #E8F0FE;\n",
              "      border: none;\n",
              "      border-radius: 50%;\n",
              "      cursor: pointer;\n",
              "      display: none;\n",
              "      fill: #1967D2;\n",
              "      height: 32px;\n",
              "      padding: 0 0 0 0;\n",
              "      width: 32px;\n",
              "    }\n",
              "\n",
              "    .colab-df-convert:hover {\n",
              "      background-color: #E2EBFA;\n",
              "      box-shadow: 0px 1px 2px rgba(60, 64, 67, 0.3), 0px 1px 3px 1px rgba(60, 64, 67, 0.15);\n",
              "      fill: #174EA6;\n",
              "    }\n",
              "\n",
              "    [theme=dark] .colab-df-convert {\n",
              "      background-color: #3B4455;\n",
              "      fill: #D2E3FC;\n",
              "    }\n",
              "\n",
              "    [theme=dark] .colab-df-convert:hover {\n",
              "      background-color: #434B5C;\n",
              "      box-shadow: 0px 1px 3px 1px rgba(0, 0, 0, 0.15);\n",
              "      filter: drop-shadow(0px 1px 2px rgba(0, 0, 0, 0.3));\n",
              "      fill: #FFFFFF;\n",
              "    }\n",
              "  </style>\n",
              "\n",
              "      <script>\n",
              "        const buttonEl =\n",
              "          document.querySelector('#df-1fc87689-b132-4e3e-bf73-2b2e86e5c378 button.colab-df-convert');\n",
              "        buttonEl.style.display =\n",
              "          google.colab.kernel.accessAllowed ? 'block' : 'none';\n",
              "\n",
              "        async function convertToInteractive(key) {\n",
              "          const element = document.querySelector('#df-1fc87689-b132-4e3e-bf73-2b2e86e5c378');\n",
              "          const dataTable =\n",
              "            await google.colab.kernel.invokeFunction('convertToInteractive',\n",
              "                                                     [key], {});\n",
              "          if (!dataTable) return;\n",
              "\n",
              "          const docLinkHtml = 'Like what you see? Visit the ' +\n",
              "            '<a target=\"_blank\" href=https://colab.research.google.com/notebooks/data_table.ipynb>data table notebook</a>'\n",
              "            + ' to learn more about interactive tables.';\n",
              "          element.innerHTML = '';\n",
              "          dataTable['output_type'] = 'display_data';\n",
              "          await google.colab.output.renderOutput(dataTable, element);\n",
              "          const docLink = document.createElement('div');\n",
              "          docLink.innerHTML = docLinkHtml;\n",
              "          element.appendChild(docLink);\n",
              "        }\n",
              "      </script>\n",
              "    </div>\n",
              "  </div>\n",
              "  "
            ]
          },
          "metadata": {},
          "execution_count": 8
        }
      ]
    },
    {
      "cell_type": "code",
      "source": [
        "# Add `start` and `end` tags to the decoder sequences\n",
        "data['Summary'] = data['Summary'].apply(lambda text: 'startseq ' + text + ' endseq')"
      ],
      "metadata": {
        "id": "0S3ZWCRa9SG-"
      },
      "execution_count": null,
      "outputs": []
    },
    {
      "cell_type": "code",
      "source": [
        "max_desc_len = max([len(sentence.split())  for sentence in data['Description']])\n",
        "max_summary_len = max([len(sentence.split())  for sentence in data['Summary']])\n",
        "\n",
        "print(f\"Number of words in longest description : {max_desc_len}\")\n",
        "print(f\"Number of words in longest summary     : {max_summary_len}\")"
      ],
      "metadata": {
        "colab": {
          "base_uri": "https://localhost:8080/"
        },
        "id": "RYf3M4FJRO4u",
        "outputId": "f243b79e-e8e2-469d-ac6e-88b2a1638519"
      },
      "execution_count": null,
      "outputs": [
        {
          "output_type": "stream",
          "name": "stdout",
          "text": [
            "Number of words in longest description : 67\n",
            "Number of words in longest summary     : 16\n"
          ]
        }
      ]
    },
    {
      "cell_type": "markdown",
      "source": [
        "# Tokenize and Pad the Sequences"
      ],
      "metadata": {
        "id": "AHVltGdqvMtI"
      }
    },
    {
      "cell_type": "code",
      "source": [
        "def get_tokenizer(texts):\n",
        "    tokenizer = Tokenizer(oov_token='<UNK>')\n",
        "    tokenizer.fit_on_texts(texts)\n",
        "\n",
        "    return tokenizer"
      ],
      "metadata": {
        "id": "x28RDGYGO318"
      },
      "execution_count": null,
      "outputs": []
    },
    {
      "cell_type": "code",
      "source": [
        "def tokenize_and_pad_texts(tokenizer, texts):\n",
        "    seqs = tokenizer.texts_to_sequences(texts)\n",
        "    seqs = pad_sequences(seqs, padding='post', truncating='post')\n",
        "\n",
        "    return seqs"
      ],
      "metadata": {
        "id": "YUhX4L9cQAl8"
      },
      "execution_count": null,
      "outputs": []
    },
    {
      "cell_type": "code",
      "source": [
        "# Get the tokenizer for descriptions\n",
        "desc_tokenizer = get_tokenizer(data['Description'])\n",
        "\n",
        "# Get the tokenizer for summaries\n",
        "summary_tokenizer = get_tokenizer(data['Summary'])"
      ],
      "metadata": {
        "id": "7nlHfoMbPabr"
      },
      "execution_count": null,
      "outputs": []
    },
    {
      "cell_type": "code",
      "source": [
        "# Tokenize and pad the descriptions\n",
        "inputs = tokenize_and_pad_texts(desc_tokenizer, data.Description)\n",
        "\n",
        "# Tokenize and pad the summaries\n",
        "targets = tokenize_and_pad_texts(summary_tokenizer, data.Summary)"
      ],
      "metadata": {
        "id": "8gWZYRyNvqET"
      },
      "execution_count": null,
      "outputs": []
    },
    {
      "cell_type": "code",
      "source": [
        "desc_vocab_size = len(desc_tokenizer.word_index) + 1\n",
        "summary_vocab_size = len(summary_tokenizer.word_index) + 1\n",
        "\n",
        "print(f\"Vocab size for descriptions : {desc_vocab_size}\")\n",
        "print(f\"Vocab size for summaries    : {summary_vocab_size}\")"
      ],
      "metadata": {
        "colab": {
          "base_uri": "https://localhost:8080/"
        },
        "id": "oNH0bFLkAUsW",
        "outputId": "a700df6c-00ce-4d1f-8e86-96ffaa23e7d4"
      },
      "execution_count": null,
      "outputs": [
        {
          "output_type": "stream",
          "name": "stdout",
          "text": [
            "Vocab size for descriptions : 76362\n",
            "Vocab size for summaries    : 29661\n"
          ]
        }
      ]
    },
    {
      "cell_type": "markdown",
      "source": [
        "# Create Dataset Pipeline"
      ],
      "metadata": {
        "id": "p5ZQ-ZTj1wbs"
      }
    },
    {
      "cell_type": "code",
      "source": [
        "BATCH_SIZE = 128"
      ],
      "metadata": {
        "id": "j_5rqwPwv2ZZ"
      },
      "execution_count": null,
      "outputs": []
    },
    {
      "cell_type": "code",
      "source": [
        "def get_train_dataset(X_train, y_train):\n",
        "    train_dataset = tf.data.Dataset.from_tensor_slices((X_train, y_train))\n",
        "    train_dataset = train_dataset.batch(batch_size=BATCH_SIZE)\n",
        "    train_dataset = train_dataset.prefetch(buffer_size=tf.data.AUTOTUNE)\n",
        "\n",
        "    return train_dataset"
      ],
      "metadata": {
        "id": "pJD74Uahv2Wu"
      },
      "execution_count": null,
      "outputs": []
    },
    {
      "cell_type": "code",
      "source": [
        "train_dataset = get_train_dataset(inputs, targets)"
      ],
      "metadata": {
        "id": "M6OGQHhmh8FU"
      },
      "execution_count": null,
      "outputs": []
    },
    {
      "cell_type": "markdown",
      "source": [
        "# Define Optimizer with Custom Learning Rate"
      ],
      "metadata": {
        "id": "On0_4H5317_g"
      }
    },
    {
      "cell_type": "code",
      "source": [
        "embedding_dim = 128"
      ],
      "metadata": {
        "id": "Iw2I2IAr6cx9"
      },
      "execution_count": null,
      "outputs": []
    },
    {
      "cell_type": "code",
      "source": [
        "class CustomSchedule(tf.keras.optimizers.schedules.LearningRateSchedule):\n",
        "    def __init__(self, embedding_dim, warmup_steps=4000):\n",
        "        super(CustomSchedule, self).__init__()\n",
        "\n",
        "        self.embedding_dim = embedding_dim\n",
        "        self.embedding_dim = tf.cast(self.embedding_dim, tf.float32)\n",
        "\n",
        "        self.warmup_steps = warmup_steps\n",
        "\n",
        "    \n",
        "    def __call__(self, step):\n",
        "        arg1 = tf.math.rsqrt(step)\n",
        "        arg2 = step * (self.warmup_steps ** -1.5)\n",
        "\n",
        "        return tf.math.rsqrt(self.embedding_dim) * tf.math.minimum(arg1, arg2)"
      ],
      "metadata": {
        "id": "GAO_Y1oJ2VRF"
      },
      "execution_count": null,
      "outputs": []
    },
    {
      "cell_type": "code",
      "source": [
        "learning_rate = CustomSchedule(embedding_dim)\n",
        "optimizer = tf.keras.optimizers.Adam(learning_rate, beta_1=0.9, beta_2=0.98, epsilon=1e-9)"
      ],
      "metadata": {
        "id": "gf3qkutM51Q4"
      },
      "execution_count": null,
      "outputs": []
    },
    {
      "cell_type": "code",
      "source": [
        "# Epoch vs Learning Rate\n",
        "plt.plot(learning_rate(tf.range(40000, dtype=tf.float32)))\n",
        "plt.ylabel(\"Learning Rate\")\n",
        "plt.xlabel(\"Train Step\");"
      ],
      "metadata": {
        "colab": {
          "base_uri": "https://localhost:8080/",
          "height": 279
        },
        "id": "jNYKBjvr9-uw",
        "outputId": "09339b20-7002-4477-c086-087f2f013183"
      },
      "execution_count": null,
      "outputs": [
        {
          "output_type": "display_data",
          "data": {
            "text/plain": [
              "<Figure size 432x288 with 1 Axes>"
            ],
            "image/png": "[encoded data removed]"
          },
          "metadata": {
            "needs_background": "light"
          }
        }
      ]
    },
    {
      "cell_type": "markdown",
      "source": [
        "# Define Loss Function"
      ],
      "metadata": {
        "id": "1s8iQ6zA7xqG"
      }
    },
    {
      "cell_type": "code",
      "source": [
        "loss_object = tf.keras.losses.SparseCategoricalCrossentropy(reduction='none')"
      ],
      "metadata": {
        "id": "IFLGMRG251O4"
      },
      "execution_count": null,
      "outputs": []
    },
    {
      "cell_type": "markdown",
      "source": [
        "Since the target sequences are padded, it is important to apply a padding mask when calculating the loss."
      ],
      "metadata": {
        "id": "Q761uuXM_UFH"
      }
    },
    {
      "cell_type": "code",
      "source": [
        "def loss_function(real, pred):\n",
        "    mask = tf.math.logical_not(tf.math.equal(real, 0))\n",
        "    loss_ = loss_object(real, pred)\n",
        "\n",
        "    mask = tf.cast(mask, dtype=loss_.dtype)\n",
        "    loss_ *= mask\n",
        "\n",
        "    return tf.reduce_sum(loss_)/tf.reduce_sum(mask)"
      ],
      "metadata": {
        "id": "RHijQjm93tdT"
      },
      "execution_count": null,
      "outputs": []
    },
    {
      "cell_type": "code",
      "source": [
        "train_loss = tf.keras.metrics.Mean(name='train_loss')"
      ],
      "metadata": {
        "id": "4bTVpabpjM5-"
      },
      "execution_count": null,
      "outputs": []
    },
    {
      "cell_type": "markdown",
      "source": [
        "# Get the Transformer Network"
      ],
      "metadata": {
        "id": "qGlXyNgdT3mT"
      }
    },
    {
      "cell_type": "code",
      "source": [
        "# Hyper-parameters\n",
        "num_layers = 4\n",
        "num_heads = 8\n",
        "fully_connected_dim = 512\n",
        "input_vocab_size = desc_vocab_size\n",
        "target_vocab_size = summary_vocab_size\n",
        "max_positional_encoding_input = desc_vocab_size\n",
        "max_positional_encoding_target = summary_vocab_size"
      ],
      "metadata": {
        "id": "anat3n5HT-LH"
      },
      "execution_count": null,
      "outputs": []
    },
    {
      "cell_type": "code",
      "source": [
        "transformer = Transformer(num_layers, \n",
        "                          embedding_dim, \n",
        "                          num_heads,\n",
        "                          fully_connected_dim,\n",
        "                          input_vocab_size,\n",
        "                          target_vocab_size,\n",
        "                          max_positional_encoding_input,\n",
        "                          max_positional_encoding_target)"
      ],
      "metadata": {
        "id": "AfKYqmqaT-LN"
      },
      "execution_count": null,
      "outputs": []
    },
    {
      "cell_type": "markdown",
      "source": [
        "# Establish Checkpoints"
      ],
      "metadata": {
        "id": "cImt9C9G6phs"
      }
    },
    {
      "cell_type": "code",
      "source": [
        "checkpoint_dir = \"training_checkpoints\"\n",
        "checkpoint_prefix = os.path.join(checkpoint_dir, \"ckpt\")\n",
        "checkpoint = tf.train.Checkpoint(transformer=transformer,\n",
        "                                 optimizer=optimizer)"
      ],
      "metadata": {
        "id": "9Z90V8fDK3Ka"
      },
      "execution_count": null,
      "outputs": []
    },
    {
      "cell_type": "markdown",
      "source": [
        "# Create Masks"
      ],
      "metadata": {
        "id": "p0SoTWPogiqf"
      }
    },
    {
      "cell_type": "code",
      "source": [
        "def create_masks(inp, tar):\n",
        "    enc_padding_mask = create_padding_mask(inp)\n",
        "    dec_padding_mask = create_padding_mask(inp)\n",
        "\n",
        "    look_ahead_mask = create_look_ahead_mask(tf.shape(tar)[1])\n",
        "    dec_target_padding_mask = create_padding_mask(tar)\n",
        "    combined_mask = tf.maximum(dec_target_padding_mask, look_ahead_mask)\n",
        "  \n",
        "    return enc_padding_mask, combined_mask, dec_padding_mask"
      ],
      "metadata": {
        "id": "GGFT0-3fglkd"
      },
      "execution_count": null,
      "outputs": []
    },
    {
      "cell_type": "markdown",
      "source": [
        "# Train the Model\n",
        "\n",
        "During training, since we have access to the entire correct output translation, we don't have to generate words one at a time. We will use **Look-ahead Mask** to block out the last part of the sentence. This will mimic what the network will need to do during prediction.\n"
      ],
      "metadata": {
        "id": "OBNP8caMGQY5"
      }
    },
    {
      "cell_type": "code",
      "source": [
        "EPOCHS = 30"
      ],
      "metadata": {
        "id": "MAqFdRNjGdnw"
      },
      "execution_count": null,
      "outputs": []
    },
    {
      "cell_type": "code",
      "source": [
        "@tf.function\n",
        "def train_step(inp, tar):\n",
        "    tar_inp = tar[:, :-1]\n",
        "    tar_real = tar[:, 1:]\n",
        "\n",
        "    enc_padding_mask, combined_mask, dec_padding_mask = create_masks(inp, tar_inp)\n",
        "\n",
        "    with tf.GradientTape() as tape:\n",
        "        predictions, _ = transformer(inp, \n",
        "                                     tar_inp, \n",
        "                                     True, \n",
        "                                     enc_padding_mask, \n",
        "                                     combined_mask, \n",
        "                                     dec_padding_mask)\n",
        "        \n",
        "        loss = loss_function(tar_real, predictions)\n",
        "\n",
        "    gradients = tape.gradient(loss, transformer.trainable_variables)    \n",
        "    optimizer.apply_gradients(zip(gradients, transformer.trainable_variables))\n",
        "\n",
        "    train_loss(loss)"
      ],
      "metadata": {
        "id": "TE-0e7lFjTuS"
      },
      "execution_count": null,
      "outputs": []
    },
    {
      "cell_type": "code",
      "source": [
        "for epoch in range(EPOCHS):\n",
        "    epoch_start_time = time.time()\n",
        "\n",
        "    train_loss.reset_states()\n",
        "  \n",
        "    for batch, (inp, tar) in enumerate(train_dataset):\n",
        "        train_step(inp, tar)\n",
        "      \n",
        "    if (epoch + 1) % 10 == 0:\n",
        "        checkpoint.save(file_prefix=checkpoint_prefix)\n",
        "    \n",
        "    print(f\"Epoch {epoch+1},  Loss {(train_loss.result()):.4f}\")\n",
        "    print(f\"Time taken for epoch {epoch+1} : {(time.time() - epoch_start_time):.1f} secs\\n\")"
      ],
      "metadata": {
        "colab": {
          "base_uri": "https://localhost:8080/"
        },
        "id": "EG1FNKIgX5Rq",
        "outputId": "ebd621cc-9f9c-47a7-dcec-8b050d83a2fc"
      },
      "execution_count": null,
      "outputs": [
        {
          "output_type": "stream",
          "name": "stdout",
          "text": [
            "Epoch 1,  Loss 9.1676\n",
            "Time taken for epoch 1 : 67.6 secs\n",
            "\n",
            "Epoch 2,  Loss 7.1977\n",
            "Time taken for epoch 2 : 53.5 secs\n",
            "\n",
            "Epoch 3,  Loss 6.5361\n",
            "Time taken for epoch 3 : 53.5 secs\n",
            "\n",
            "Epoch 4,  Loss 5.9689\n",
            "Time taken for epoch 4 : 53.5 secs\n",
            "\n",
            "Epoch 5,  Loss 5.4983\n",
            "Time taken for epoch 5 : 53.4 secs\n",
            "\n",
            "Epoch 6,  Loss 5.0848\n",
            "Time taken for epoch 6 : 53.4 secs\n",
            "\n",
            "Epoch 7,  Loss 4.7052\n",
            "Time taken for epoch 7 : 53.4 secs\n",
            "\n",
            "Epoch 8,  Loss 4.3361\n",
            "Time taken for epoch 8 : 53.4 secs\n",
            "\n",
            "Epoch 9,  Loss 4.0313\n",
            "Time taken for epoch 9 : 53.3 secs\n",
            "\n",
            "Epoch 10,  Loss 3.7509\n",
            "Time taken for epoch 10 : 54.1 secs\n",
            "\n",
            "Epoch 11,  Loss 3.4565\n",
            "Time taken for epoch 11 : 53.4 secs\n",
            "\n",
            "Epoch 12,  Loss 3.1699\n",
            "Time taken for epoch 12 : 53.4 secs\n",
            "\n",
            "Epoch 13,  Loss 2.9156\n",
            "Time taken for epoch 13 : 53.4 secs\n",
            "\n",
            "Epoch 14,  Loss 2.6782\n",
            "Time taken for epoch 14 : 53.4 secs\n",
            "\n",
            "Epoch 15,  Loss 2.4722\n",
            "Time taken for epoch 15 : 53.4 secs\n",
            "\n",
            "Epoch 16,  Loss 2.2928\n",
            "Time taken for epoch 16 : 53.4 secs\n",
            "\n",
            "Epoch 17,  Loss 2.1305\n",
            "Time taken for epoch 17 : 53.5 secs\n",
            "\n",
            "Epoch 18,  Loss 1.9803\n",
            "Time taken for epoch 18 : 53.4 secs\n",
            "\n",
            "Epoch 19,  Loss 1.8449\n",
            "Time taken for epoch 19 : 53.4 secs\n",
            "\n",
            "Epoch 20,  Loss 1.7296\n",
            "Time taken for epoch 20 : 54.0 secs\n",
            "\n",
            "Epoch 21,  Loss 1.6217\n",
            "Time taken for epoch 21 : 53.4 secs\n",
            "\n",
            "Epoch 22,  Loss 1.5173\n",
            "Time taken for epoch 22 : 53.4 secs\n",
            "\n",
            "Epoch 23,  Loss 1.4300\n",
            "Time taken for epoch 23 : 53.4 secs\n",
            "\n",
            "Epoch 24,  Loss 1.3436\n",
            "Time taken for epoch 24 : 53.4 secs\n",
            "\n",
            "Epoch 25,  Loss 1.2677\n",
            "Time taken for epoch 25 : 53.4 secs\n",
            "\n",
            "Epoch 26,  Loss 1.1880\n",
            "Time taken for epoch 26 : 53.4 secs\n",
            "\n",
            "Epoch 27,  Loss 1.1225\n",
            "Time taken for epoch 27 : 53.4 secs\n",
            "\n",
            "Epoch 28,  Loss 1.0625\n",
            "Time taken for epoch 28 : 53.4 secs\n",
            "\n",
            "Epoch 29,  Loss 1.0015\n",
            "Time taken for epoch 29 : 53.5 secs\n",
            "\n",
            "Epoch 30,  Loss 0.9544\n",
            "Time taken for epoch 30 : 54.1 secs\n",
            "\n"
          ]
        }
      ]
    },
    {
      "cell_type": "markdown",
      "source": [
        "# Inference"
      ],
      "metadata": {
        "id": "81B6j9OZmsgi"
      }
    },
    {
      "cell_type": "code",
      "source": [
        "def evaluate(desc):\n",
        "    input_seq = desc_tokenizer.texts_to_sequences([desc])\n",
        "    input_seq = pad_sequences(input_seq, maxlen=max_desc_len, padding='post', truncating='post')\n",
        "\n",
        "    encoder_input = tf.expand_dims(input_seq[0], axis=0)\n",
        "\n",
        "    decoder_input = [summary_tokenizer.word_index[\"startseq\"]]\n",
        "\n",
        "    output = tf.expand_dims(decoder_input, axis=0)\n",
        "    \n",
        "    for i in range(max_desc_len):\n",
        "        enc_padding_mask, combined_mask, dec_padding_mask = create_masks(encoder_input, output)\n",
        "\n",
        "        predictions, attention_weights = transformer(encoder_input, \n",
        "                                                     output,\n",
        "                                                     False,\n",
        "                                                     enc_padding_mask,\n",
        "                                                     combined_mask,\n",
        "                                                     dec_padding_mask)\n",
        "\n",
        "        predictions = predictions[: ,-1:, :]\n",
        "        predicted_id = tf.cast(tf.argmax(predictions, axis=-1), tf.int32)\n",
        "\n",
        "        if predicted_id == summary_tokenizer.word_index[\"endseq\"]:\n",
        "            return tf.squeeze(output, axis=0), attention_weights\n",
        "\n",
        "        output = tf.concat([output, predicted_id], axis=-1)\n",
        "\n",
        "    return tf.squeeze(output, axis=0), attention_weights"
      ],
      "metadata": {
        "id": "a8SngzGQjdXb"
      },
      "execution_count": null,
      "outputs": []
    },
    {
      "cell_type": "code",
      "source": [
        "def summarize(desc):\n",
        "    summarized = evaluate(desc)[0].numpy()\n",
        "    summarized = np.expand_dims(summarized[1:], 0)\n",
        "    summary = summary_tokenizer.sequences_to_texts(summarized)[0]\n",
        "\n",
        "    print(f\"SUMMARY: \\n  {summary}\")"
      ],
      "metadata": {
        "id": "50a9lxv5K7Qo"
      },
      "execution_count": null,
      "outputs": []
    },
    {
      "cell_type": "code",
      "source": [],
      "metadata": {
        "id": "vOb1TySk_Fzy"
      },
      "execution_count": null,
      "outputs": []
    },
    {
      "cell_type": "code",
      "source": [
        "summarize(\n",
        "    \"US-based private equity firm General Atlantic is in talks to invest about \\\n",
        "    $850 million to $900 million in Reliance Industries' digital unit Jio \\\n",
        "    Platforms, the Bloomberg reported. Saudi Arabia's $320 billion sovereign \\\n",
        "    wealth fund is reportedly also exploring a potential investment in the \\\n",
        "    Mukesh Ambani-led company. The 'Public Investment Fund' is looking to \\\n",
        "    acquire a minority stake in Jio Platforms.\"\n",
        ")"
      ],
      "metadata": {
        "colab": {
          "base_uri": "https://localhost:8080/"
        },
        "id": "SxhbS-Ia3gPB",
        "outputId": "21b372d1-18d1-48a6-b271-57b002ecf191"
      },
      "execution_count": null,
      "outputs": [
        {
          "output_type": "stream",
          "name": "stdout",
          "text": [
            "SUMMARY: \n",
            "  firm to invest €1 billion to invest money to jio\n"
          ]
        }
      ]
    },
    {
      "cell_type": "code",
      "source": [],
      "metadata": {
        "id": "7JFN8qrAOnK-"
      },
      "execution_count": null,
      "outputs": []
    },
    {
      "cell_type": "code",
      "source": [
        "summarize(\n",
        "    \"South Africa registered their third straight test series win in Australia \\\n",
        "    by winning the second test at Hobart by an innings and 80 runs on tuesday \\\n",
        "    to take an unassailable 2-0 lead in the series. It was the fifth \\\n",
        "    consecutive defeat in as many tests for Australia who scored 85 \\\n",
        "    and 161 in their two innings as opposed to South Africa's 39 and 326\")"
      ],
      "metadata": {
        "id": "9JXjK45_jYHg",
        "colab": {
          "base_uri": "https://localhost:8080/"
        },
        "outputId": "3024063b-4581-486b-a7fb-fcbd9cb872cc"
      },
      "execution_count": null,
      "outputs": [
        {
          "output_type": "stream",
          "name": "stdout",
          "text": [
            "SUMMARY: \n",
            "  sa wins its 2nd test against aus in aus\n"
          ]
        }
      ]
    }
  ]
}